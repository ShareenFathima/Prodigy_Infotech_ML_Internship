{
  "nbformat": 4,
  "nbformat_minor": 0,
  "metadata": {
    "colab": {
      "provenance": []
    },
    "kernelspec": {
      "name": "python3",
      "display_name": "Python 3"
    },
    "language_info": {
      "name": "python"
    }
  },
  "cells": [
    {
      "cell_type": "code",
      "source": [
        "# Import libraries\n",
        "import numpy as np\n",
        "import tensorflow as tf\n",
        "from tensorflow.keras.models import Sequential\n",
        "from tensorflow.keras.layers import Conv2D, MaxPooling2D, Flatten, Dense, Dropout\n",
        "from tensorflow.keras.utils import to_categorical\n",
        "from sklearn.model_selection import train_test_split\n",
        "\n",
        "# Load the CIFAR-10 dataset (inbuilt in TensorFlow)\n",
        "(X, y), (X_test, y_test) = tf.keras.datasets.cifar10.load_data()\n",
        "\n",
        "# Normalize images\n",
        "X = X / 255.0\n",
        "X_test = X_test / 255.0\n",
        "\n",
        "# Define labels (CIFAR-10 categories)\n",
        "labels = [\n",
        "    'Airplane', 'Automobile', 'Bird', 'Cat',\n",
        "    'Deer', 'Dog', 'Frog', 'Horse', 'Ship', 'Truck'\n",
        "]\n",
        "\n",
        "# For this example, we pretend 3 classes are food-related:\n",
        "# 1 = Deer (e.g., Meat)\n",
        "# 2 = Frog (e.g., Exotic food)\n",
        "# 3 = Horse (e.g., Red meat)\n",
        "\n",
        "# Filter food-related classes\n",
        "food_classes = [4, 6, 7]  # Deer, Frog, Horse\n",
        "food_mask = np.isin(y, food_classes).flatten()\n",
        "\n",
        "X_food = X[food_mask]\n",
        "y_food = y[food_mask]\n",
        "\n",
        "# Reassign labels for food-related classes\n",
        "new_labels = {4: 0, 6: 1, 7: 2}  # Map Deer to 0, Frog to 1, Horse to 2\n",
        "y_food = np.vectorize(new_labels.get)(y_food)\n",
        "\n",
        "# Train-test split for food classes\n",
        "X_train, X_val, y_train, y_val = train_test_split(X_food, y_food, test_size=0.3, random_state=42)\n",
        "\n",
        "# One-hot encode the labels\n",
        "y_train = to_categorical(y_train, num_classes=3)\n",
        "y_val = to_categorical(y_val, num_classes=3)\n",
        "\n",
        "# Define the CNN model\n",
        "model = Sequential([\n",
        "    Conv2D(32, (3, 3), activation='relu', input_shape=(32, 32, 3)),\n",
        "    MaxPooling2D((2, 2)),\n",
        "    Conv2D(64, (3, 3), activation='relu'),\n",
        "    MaxPooling2D((2, 2)),\n",
        "    Flatten(),\n",
        "    Dense(128, activation='relu'),\n",
        "    Dropout(0.5),\n",
        "    Dense(3, activation='softmax')  # 3 food classes\n",
        "])\n",
        "\n",
        "# Compile the model\n",
        "model.compile(optimizer='adam',\n",
        "              loss='categorical_crossentropy',\n",
        "              metrics=['accuracy'])\n",
        "\n",
        "# Train the model\n",
        "history = model.fit(\n",
        "    X_train, y_train,\n",
        "    validation_data=(X_val, y_val),\n",
        "    batch_size=32,\n",
        "    epochs=10\n",
        ")\n",
        "\n",
        "# Evaluate the model\n",
        "loss, accuracy = model.evaluate(X_val, y_val)\n",
        "print(f\"Validation Loss: {loss}\")\n",
        "print(f\"Validation Accuracy: {accuracy}\")\n",
        "\n",
        "# Predict a few samples from test data\n",
        "predictions = model.predict(X_val[:5])\n",
        "for i, pred in enumerate(predictions):\n",
        "    print(f\"Predicted: {np.argmax(pred)}, True Label: {np.argmax(y_val[i])}\")\n"
      ],
      "metadata": {
        "colab": {
          "base_uri": "https://localhost:8080/"
        },
        "id": "wMuhcJi-nLG5",
        "outputId": "479ff145-233a-47ac-eb0f-6a0171874a5d"
      },
      "execution_count": 5,
      "outputs": [
        {
          "output_type": "stream",
          "name": "stdout",
          "text": [
            "Downloading data from https://www.cs.toronto.edu/~kriz/cifar-10-python.tar.gz\n",
            "\u001b[1m170498071/170498071\u001b[0m \u001b[32m━━━━━━━━━━━━━━━━━━━━\u001b[0m\u001b[37m\u001b[0m \u001b[1m6s\u001b[0m 0us/step\n"
          ]
        },
        {
          "output_type": "stream",
          "name": "stderr",
          "text": [
            "/usr/local/lib/python3.10/dist-packages/keras/src/layers/convolutional/base_conv.py:107: UserWarning: Do not pass an `input_shape`/`input_dim` argument to a layer. When using Sequential models, prefer using an `Input(shape)` object as the first layer in the model instead.\n",
            "  super().__init__(activity_regularizer=activity_regularizer, **kwargs)\n"
          ]
        },
        {
          "output_type": "stream",
          "name": "stdout",
          "text": [
            "Epoch 1/10\n",
            "\u001b[1m329/329\u001b[0m \u001b[32m━━━━━━━━━━━━━━━━━━━━\u001b[0m\u001b[37m\u001b[0m \u001b[1m19s\u001b[0m 54ms/step - accuracy: 0.5344 - loss: 0.9303 - val_accuracy: 0.7458 - val_loss: 0.6314\n",
            "Epoch 2/10\n",
            "\u001b[1m329/329\u001b[0m \u001b[32m━━━━━━━━━━━━━━━━━━━━\u001b[0m\u001b[37m\u001b[0m \u001b[1m20s\u001b[0m 52ms/step - accuracy: 0.7417 - loss: 0.6221 - val_accuracy: 0.7507 - val_loss: 0.5826\n",
            "Epoch 3/10\n",
            "\u001b[1m329/329\u001b[0m \u001b[32m━━━━━━━━━━━━━━━━━━━━\u001b[0m\u001b[37m\u001b[0m \u001b[1m20s\u001b[0m 50ms/step - accuracy: 0.7946 - loss: 0.5159 - val_accuracy: 0.8002 - val_loss: 0.5045\n",
            "Epoch 4/10\n",
            "\u001b[1m329/329\u001b[0m \u001b[32m━━━━━━━━━━━━━━━━━━━━\u001b[0m\u001b[37m\u001b[0m \u001b[1m20s\u001b[0m 49ms/step - accuracy: 0.8140 - loss: 0.4542 - val_accuracy: 0.8216 - val_loss: 0.4329\n",
            "Epoch 5/10\n",
            "\u001b[1m329/329\u001b[0m \u001b[32m━━━━━━━━━━━━━━━━━━━━\u001b[0m\u001b[37m\u001b[0m \u001b[1m17s\u001b[0m 52ms/step - accuracy: 0.8373 - loss: 0.3969 - val_accuracy: 0.8316 - val_loss: 0.4145\n",
            "Epoch 6/10\n",
            "\u001b[1m329/329\u001b[0m \u001b[32m━━━━━━━━━━━━━━━━━━━━\u001b[0m\u001b[37m\u001b[0m \u001b[1m19s\u001b[0m 49ms/step - accuracy: 0.8514 - loss: 0.3729 - val_accuracy: 0.8367 - val_loss: 0.4160\n",
            "Epoch 7/10\n",
            "\u001b[1m329/329\u001b[0m \u001b[32m━━━━━━━━━━━━━━━━━━━━\u001b[0m\u001b[37m\u001b[0m \u001b[1m21s\u001b[0m 50ms/step - accuracy: 0.8686 - loss: 0.3319 - val_accuracy: 0.8471 - val_loss: 0.4097\n",
            "Epoch 8/10\n",
            "\u001b[1m329/329\u001b[0m \u001b[32m━━━━━━━━━━━━━━━━━━━━\u001b[0m\u001b[37m\u001b[0m \u001b[1m17s\u001b[0m 51ms/step - accuracy: 0.8819 - loss: 0.2986 - val_accuracy: 0.8389 - val_loss: 0.4174\n",
            "Epoch 9/10\n",
            "\u001b[1m329/329\u001b[0m \u001b[32m━━━━━━━━━━━━━━━━━━━━\u001b[0m\u001b[37m\u001b[0m \u001b[1m16s\u001b[0m 48ms/step - accuracy: 0.9004 - loss: 0.2565 - val_accuracy: 0.8424 - val_loss: 0.4072\n",
            "Epoch 10/10\n",
            "\u001b[1m329/329\u001b[0m \u001b[32m━━━━━━━━━━━━━━━━━━━━\u001b[0m\u001b[37m\u001b[0m \u001b[1m21s\u001b[0m 48ms/step - accuracy: 0.9139 - loss: 0.2265 - val_accuracy: 0.8342 - val_loss: 0.4402\n",
            "\u001b[1m141/141\u001b[0m \u001b[32m━━━━━━━━━━━━━━━━━━━━\u001b[0m\u001b[37m\u001b[0m \u001b[1m2s\u001b[0m 14ms/step - accuracy: 0.8305 - loss: 0.4498\n",
            "Validation Loss: 0.4402497410774231\n",
            "Validation Accuracy: 0.8342221975326538\n",
            "\u001b[1m1/1\u001b[0m \u001b[32m━━━━━━━━━━━━━━━━━━━━\u001b[0m\u001b[37m\u001b[0m \u001b[1m0s\u001b[0m 104ms/step\n",
            "Predicted: 0, True Label: 0\n",
            "Predicted: 1, True Label: 1\n",
            "Predicted: 0, True Label: 0\n",
            "Predicted: 2, True Label: 2\n",
            "Predicted: 1, True Label: 1\n"
          ]
        }
      ]
    }
  ]
}